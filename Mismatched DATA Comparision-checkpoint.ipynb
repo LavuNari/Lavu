{
 "cells": [
  {
   "cell_type": "code",
   "execution_count": 7,
   "id": "beb251da",
   "metadata": {},
   "outputs": [],
   "source": [
    "import pandas as pd"
   ]
  },
  {
   "cell_type": "code",
   "execution_count": 8,
   "id": "f5ca053d",
   "metadata": {},
   "outputs": [],
   "source": [
    "df = pd.read_csv(\"C:\\\\Users\\\\Umeshyam\\\\Desktop\\\\file.csv\", header=0)"
   ]
  },
  {
   "cell_type": "code",
   "execution_count": 9,
   "id": "44228e5c",
   "metadata": {},
   "outputs": [
    {
     "data": {
      "text/html": [
       "<div>\n",
       "<style scoped>\n",
       "    .dataframe tbody tr th:only-of-type {\n",
       "        vertical-align: middle;\n",
       "    }\n",
       "\n",
       "    .dataframe tbody tr th {\n",
       "        vertical-align: top;\n",
       "    }\n",
       "\n",
       "    .dataframe thead th {\n",
       "        text-align: right;\n",
       "    }\n",
       "</style>\n",
       "<table border=\"1\" class=\"dataframe\">\n",
       "  <thead>\n",
       "    <tr style=\"text-align: right;\">\n",
       "      <th></th>\n",
       "      <th>m0</th>\n",
       "      <th>m1</th>\n",
       "      <th>m2</th>\n",
       "      <th>m3</th>\n",
       "      <th>m4</th>\n",
       "    </tr>\n",
       "  </thead>\n",
       "  <tbody>\n",
       "    <tr>\n",
       "      <th>0</th>\n",
       "      <td>1</td>\n",
       "      <td>44</td>\n",
       "      <td>56</td>\n",
       "      <td>67</td>\n",
       "      <td>68</td>\n",
       "    </tr>\n",
       "    <tr>\n",
       "      <th>1</th>\n",
       "      <td>2</td>\n",
       "      <td>44</td>\n",
       "      <td>56</td>\n",
       "      <td>87</td>\n",
       "      <td>68</td>\n",
       "    </tr>\n",
       "    <tr>\n",
       "      <th>2</th>\n",
       "      <td>3</td>\n",
       "      <td>45</td>\n",
       "      <td>56</td>\n",
       "      <td>67</td>\n",
       "      <td>46</td>\n",
       "    </tr>\n",
       "    <tr>\n",
       "      <th>3</th>\n",
       "      <td>1</td>\n",
       "      <td>45</td>\n",
       "      <td>56</td>\n",
       "      <td>87</td>\n",
       "      <td>36</td>\n",
       "    </tr>\n",
       "    <tr>\n",
       "      <th>4</th>\n",
       "      <td>2</td>\n",
       "      <td>46</td>\n",
       "      <td>56</td>\n",
       "      <td>67</td>\n",
       "      <td>40</td>\n",
       "    </tr>\n",
       "    <tr>\n",
       "      <th>5</th>\n",
       "      <td>3</td>\n",
       "      <td>46</td>\n",
       "      <td>55</td>\n",
       "      <td>87</td>\n",
       "      <td>41</td>\n",
       "    </tr>\n",
       "  </tbody>\n",
       "</table>\n",
       "</div>"
      ],
      "text/plain": [
       "   m0  m1  m2  m3  m4\n",
       "0   1  44  56  67  68\n",
       "1   2  44  56  87  68\n",
       "2   3  45  56  67  46\n",
       "3   1  45  56  87  36\n",
       "4   2  46  56  67  40\n",
       "5   3  46  55  87  41"
      ]
     },
     "execution_count": 9,
     "metadata": {},
     "output_type": "execute_result"
    }
   ],
   "source": [
    "df"
   ]
  },
  {
   "cell_type": "code",
   "execution_count": 10,
   "id": "a39b8dd9",
   "metadata": {},
   "outputs": [
    {
     "name": "stdout",
     "output_type": "stream",
     "text": [
      "differen values []\n"
     ]
    }
   ],
   "source": [
    "data = []\n",
    "for (idxRow, s1), (_, s2) in zip(df.iterrows(), df.iterrows()):\n",
    "    for (idxCol, v1), (_, v2) in zip(s1.iteritems(), s2.iteritems()):\n",
    "        if v1 != v2:\n",
    "            data.extend([[idxRow,idxCol,v1,v2]])\n",
    "            \n",
    "\n",
    "print(\"differen values\", data)"
   ]
  },
  {
   "cell_type": "code",
   "execution_count": 14,
   "id": "a39f15fc",
   "metadata": {},
   "outputs": [
    {
     "data": {
      "text/plain": [
       "0    1\n",
       "1    2\n",
       "2    3\n",
       "3    1\n",
       "4    2\n",
       "5    3\n",
       "Name: m0, dtype: int64"
      ]
     },
     "execution_count": 14,
     "metadata": {},
     "output_type": "execute_result"
    }
   ],
   "source": []
  },
  {
   "cell_type": "code",
   "execution_count": 15,
   "id": "3f64f0b8",
   "metadata": {},
   "outputs": [],
   "source": [
    "uniques = pd.unique(df[['m0']].values.ravel())\n"
   ]
  },
  {
   "cell_type": "code",
   "execution_count": 16,
   "id": "bc411a87",
   "metadata": {},
   "outputs": [
    {
     "data": {
      "text/plain": [
       "array([1, 2, 3], dtype=int64)"
      ]
     },
     "execution_count": 16,
     "metadata": {},
     "output_type": "execute_result"
    }
   ],
   "source": [
    "uniques"
   ]
  },
  {
   "cell_type": "code",
   "execution_count": 42,
   "id": "b4ec9dda",
   "metadata": {},
   "outputs": [
    {
     "data": {
      "text/plain": [
       "[[0, 3], [1, 4], [2, 5]]"
      ]
     },
     "execution_count": 42,
     "metadata": {},
     "output_type": "execute_result"
    }
   ],
   "source": [
    "#To select rows whose column value equals a scalar, some_value, use ==:\n",
    "idx_rows=[]\n",
    "for i in uniques:\n",
    "    idx_row = df.index[df['m0'] == i].tolist()\n",
    "    idx_rows.append(idx_row)\n",
    "    #print(df.loc[df['m0'] == i])\n",
    "\n",
    "idx_rows"
   ]
  },
  {
   "cell_type": "code",
   "execution_count": 54,
   "id": "6faf3574",
   "metadata": {},
   "outputs": [],
   "source": [
    "data = {}\n",
    "for i in idx_rows:\n",
    "    for (idxCol, v1), (_, v2) in zip(df.loc[i[0]].iteritems(), df.loc[i[1]].iteritems()):\n",
    "        if v1 != v2:\n",
    "            data[v1] = v2            \n",
    "        "
   ]
  },
  {
   "cell_type": "code",
   "execution_count": 49,
   "id": "d295ba2a",
   "metadata": {},
   "outputs": [
    {
     "data": {
      "text/plain": [
       "m0     3\n",
       "m1    45\n",
       "m2    56\n",
       "m3    67\n",
       "m4    46\n",
       "Name: 2, dtype: int64"
      ]
     },
     "execution_count": 49,
     "metadata": {},
     "output_type": "execute_result"
    }
   ],
   "source": [
    "df.loc[i[0]]"
   ]
  },
  {
   "cell_type": "code",
   "execution_count": 55,
   "id": "c0629f8f",
   "metadata": {},
   "outputs": [
    {
     "data": {
      "text/plain": [
       "{44: 46, 67: 87, 68: 40, 87: 67, 45: 46, 56: 55, 46: 41}"
      ]
     },
     "execution_count": 55,
     "metadata": {},
     "output_type": "execute_result"
    }
   ],
   "source": [
    "data"
   ]
  },
  {
   "cell_type": "code",
   "execution_count": 67,
   "id": "a556efcf",
   "metadata": {},
   "outputs": [
    {
     "data": {
      "text/html": [
       "<div>\n",
       "<style scoped>\n",
       "    .dataframe tbody tr th:only-of-type {\n",
       "        vertical-align: middle;\n",
       "    }\n",
       "\n",
       "    .dataframe tbody tr th {\n",
       "        vertical-align: top;\n",
       "    }\n",
       "\n",
       "    .dataframe thead th {\n",
       "        text-align: right;\n",
       "    }\n",
       "</style>\n",
       "<table border=\"1\" class=\"dataframe\">\n",
       "  <thead>\n",
       "    <tr style=\"text-align: right;\">\n",
       "      <th></th>\n",
       "      <th>m0</th>\n",
       "      <th>m1</th>\n",
       "      <th>m2</th>\n",
       "      <th>m3</th>\n",
       "      <th>m4</th>\n",
       "    </tr>\n",
       "  </thead>\n",
       "  <tbody>\n",
       "    <tr>\n",
       "      <th>0</th>\n",
       "      <td>1</td>\n",
       "      <td>44</td>\n",
       "      <td>56</td>\n",
       "      <td>67</td>\n",
       "      <td>68</td>\n",
       "    </tr>\n",
       "    <tr>\n",
       "      <th>1</th>\n",
       "      <td>2</td>\n",
       "      <td>44</td>\n",
       "      <td>56</td>\n",
       "      <td>87</td>\n",
       "      <td>68</td>\n",
       "    </tr>\n",
       "    <tr>\n",
       "      <th>2</th>\n",
       "      <td>3</td>\n",
       "      <td>45</td>\n",
       "      <td>56</td>\n",
       "      <td>67</td>\n",
       "      <td>46</td>\n",
       "    </tr>\n",
       "    <tr>\n",
       "      <th>3</th>\n",
       "      <td>1</td>\n",
       "      <td>45</td>\n",
       "      <td>56</td>\n",
       "      <td>87</td>\n",
       "      <td>36</td>\n",
       "    </tr>\n",
       "    <tr>\n",
       "      <th>4</th>\n",
       "      <td>2</td>\n",
       "      <td>46</td>\n",
       "      <td>56</td>\n",
       "      <td>67</td>\n",
       "      <td>40</td>\n",
       "    </tr>\n",
       "    <tr>\n",
       "      <th>5</th>\n",
       "      <td>3</td>\n",
       "      <td>46</td>\n",
       "      <td>55</td>\n",
       "      <td>87</td>\n",
       "      <td>41</td>\n",
       "    </tr>\n",
       "  </tbody>\n",
       "</table>\n",
       "</div>"
      ],
      "text/plain": [
       "   m0  m1  m2  m3  m4\n",
       "0   1  44  56  67  68\n",
       "1   2  44  56  87  68\n",
       "2   3  45  56  67  46\n",
       "3   1  45  56  87  36\n",
       "4   2  46  56  67  40\n",
       "5   3  46  55  87  41"
      ]
     },
     "execution_count": 67,
     "metadata": {},
     "output_type": "execute_result"
    }
   ],
   "source": [
    "df"
   ]
  },
  {
   "cell_type": "code",
   "execution_count": 70,
   "id": "03831277",
   "metadata": {},
   "outputs": [
    {
     "name": "stdout",
     "output_type": "stream",
     "text": [
      "   m0  m1  m2  m3  m4\n",
      "0   1  44  56  67  68\n",
      "3   1  45  56  87  36\n",
      "   m0  m1  m2  m3  m4\n",
      "1   2  44  56  87  68\n",
      "4   2  46  56  67  40\n",
      "   m0  m1  m2  m3  m4\n",
      "2   3  45  56  67  46\n",
      "5   3  46  55  87  41\n"
     ]
    }
   ],
   "source": [
    "for i in uniques:\n",
    "    print(df.loc[df['m0'] == i])\n"
   ]
  },
  {
   "cell_type": "code",
   "execution_count": 71,
   "id": "d1c14059",
   "metadata": {},
   "outputs": [
    {
     "data": {
      "text/plain": [
       "{44: 46, 67: 87, 68: 40, 87: 67, 45: 46, 56: 55, 46: 41}"
      ]
     },
     "execution_count": 71,
     "metadata": {},
     "output_type": "execute_result"
    }
   ],
   "source": [
    "data"
   ]
  },
  {
   "cell_type": "code",
   "execution_count": null,
   "id": "c5b8302f",
   "metadata": {},
   "outputs": [],
   "source": []
  }
 ],
 "metadata": {
  "kernelspec": {
   "display_name": "Python 3 (ipykernel)",
   "language": "python",
   "name": "python3"
  },
  "language_info": {
   "codemirror_mode": {
    "name": "ipython",
    "version": 3
   },
   "file_extension": ".py",
   "mimetype": "text/x-python",
   "name": "python",
   "nbconvert_exporter": "python",
   "pygments_lexer": "ipython3",
   "version": "3.10.0"
  }
 },
 "nbformat": 4,
 "nbformat_minor": 5
}
