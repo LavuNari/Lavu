{
 "cells": [
  {
   "cell_type": "code",
   "execution_count": 144,
   "id": "01ae473e",
   "metadata": {},
   "outputs": [],
   "source": [
    "import pandas as pd"
   ]
  },
  {
   "cell_type": "code",
   "execution_count": 145,
   "id": "763f66b0",
   "metadata": {},
   "outputs": [],
   "source": [
    "df = pd.read_csv(\"C:\\\\Users\\\\Umeshyam\\\\Desktop\\\\file.csv\", header=0)"
   ]
  },
  {
   "cell_type": "code",
   "execution_count": 146,
   "id": "86bd454c",
   "metadata": {},
   "outputs": [
    {
     "data": {
      "text/html": [
       "<div>\n",
       "<style scoped>\n",
       "    .dataframe tbody tr th:only-of-type {\n",
       "        vertical-align: middle;\n",
       "    }\n",
       "\n",
       "    .dataframe tbody tr th {\n",
       "        vertical-align: top;\n",
       "    }\n",
       "\n",
       "    .dataframe thead th {\n",
       "        text-align: right;\n",
       "    }\n",
       "</style>\n",
       "<table border=\"1\" class=\"dataframe\">\n",
       "  <thead>\n",
       "    <tr style=\"text-align: right;\">\n",
       "      <th></th>\n",
       "      <th>m0</th>\n",
       "      <th>m1</th>\n",
       "      <th>m2</th>\n",
       "      <th>m3</th>\n",
       "      <th>m4</th>\n",
       "    </tr>\n",
       "  </thead>\n",
       "  <tbody>\n",
       "    <tr>\n",
       "      <th>0</th>\n",
       "      <td>1</td>\n",
       "      <td>44</td>\n",
       "      <td>56</td>\n",
       "      <td>67</td>\n",
       "      <td>68</td>\n",
       "    </tr>\n",
       "    <tr>\n",
       "      <th>1</th>\n",
       "      <td>2</td>\n",
       "      <td>44</td>\n",
       "      <td>56</td>\n",
       "      <td>87</td>\n",
       "      <td>68</td>\n",
       "    </tr>\n",
       "    <tr>\n",
       "      <th>2</th>\n",
       "      <td>3</td>\n",
       "      <td>45</td>\n",
       "      <td>56</td>\n",
       "      <td>67</td>\n",
       "      <td>46</td>\n",
       "    </tr>\n",
       "    <tr>\n",
       "      <th>3</th>\n",
       "      <td>1</td>\n",
       "      <td>45</td>\n",
       "      <td>56</td>\n",
       "      <td>87</td>\n",
       "      <td>36</td>\n",
       "    </tr>\n",
       "    <tr>\n",
       "      <th>4</th>\n",
       "      <td>2</td>\n",
       "      <td>46</td>\n",
       "      <td>56</td>\n",
       "      <td>67</td>\n",
       "      <td>40</td>\n",
       "    </tr>\n",
       "    <tr>\n",
       "      <th>5</th>\n",
       "      <td>3</td>\n",
       "      <td>46</td>\n",
       "      <td>55</td>\n",
       "      <td>87</td>\n",
       "      <td>41</td>\n",
       "    </tr>\n",
       "  </tbody>\n",
       "</table>\n",
       "</div>"
      ],
      "text/plain": [
       "   m0  m1  m2  m3  m4\n",
       "0   1  44  56  67  68\n",
       "1   2  44  56  87  68\n",
       "2   3  45  56  67  46\n",
       "3   1  45  56  87  36\n",
       "4   2  46  56  67  40\n",
       "5   3  46  55  87  41"
      ]
     },
     "execution_count": 146,
     "metadata": {},
     "output_type": "execute_result"
    }
   ],
   "source": [
    "df"
   ]
  },
  {
   "cell_type": "code",
   "execution_count": 147,
   "id": "c64f4b97",
   "metadata": {},
   "outputs": [
    {
     "name": "stdout",
     "output_type": "stream",
     "text": [
      "differen values []\n"
     ]
    }
   ],
   "source": [
    "data = []\n",
    "for (idxRow, s1), (_, s2) in zip(df.iterrows(), df.iterrows()):\n",
    "    for (idxCol, v1), (_, v2) in zip(s1.iteritems(), s2.iteritems()):\n",
    "        if v1 != v2:\n",
    "            data.extend([[idxRow,idxCol,v1,v2]])\n",
    "            \n",
    "\n",
    "print(\"differen values\", data)"
   ]
  },
  {
   "cell_type": "code",
   "execution_count": 135,
   "id": "a3056178",
   "metadata": {},
   "outputs": [
    {
     "data": {
      "text/plain": [
       "[]"
      ]
     },
     "execution_count": 135,
     "metadata": {},
     "output_type": "execute_result"
    }
   ],
   "source": [
    "data"
   ]
  },
  {
   "cell_type": "code",
   "execution_count": 136,
   "id": "6edefc2c",
   "metadata": {},
   "outputs": [],
   "source": [
    "uniques = pd.unique(df[['m0']].values.ravel())\n"
   ]
  },
  {
   "cell_type": "code",
   "execution_count": 137,
   "id": "4c7ee1c2",
   "metadata": {},
   "outputs": [
    {
     "data": {
      "text/plain": [
       "array([1, 2, 3], dtype=int64)"
      ]
     },
     "execution_count": 137,
     "metadata": {},
     "output_type": "execute_result"
    }
   ],
   "source": [
    "uniques"
   ]
  },
  {
   "cell_type": "code",
   "execution_count": 138,
   "id": "eb055de0",
   "metadata": {},
   "outputs": [
    {
     "data": {
      "text/plain": [
       "[[0, 3], [1, 4], [2, 5]]"
      ]
     },
     "execution_count": 138,
     "metadata": {},
     "output_type": "execute_result"
    }
   ],
   "source": [
    "#To select rows whose column value equals a scalar, some_value, use ==:\n",
    "idx_rows=[]\n",
    "for i in uniques:\n",
    "    idx_row = df.index[df['m0'] == i].tolist()\n",
    "    idx_rows.append(idx_row)\n",
    "    #print(df.loc[df['m0'] == i])\n",
    "\n",
    "idx_rows"
   ]
  },
  {
   "cell_type": "code",
   "execution_count": 149,
   "id": "171fed7e",
   "metadata": {},
   "outputs": [
    {
     "data": {
      "text/plain": [
       "[[0, 3, 'm1', 44, 'm1', 45],\n",
       " [0, 3, 'm3', 67, 'm3', 87],\n",
       " [0, 3, 'm4', 68, 'm4', 36],\n",
       " [1, 4, 'm1', 44, 'm1', 46],\n",
       " [1, 4, 'm3', 87, 'm3', 67],\n",
       " [1, 4, 'm4', 68, 'm4', 40],\n",
       " [2, 5, 'm1', 45, 'm1', 46],\n",
       " [2, 5, 'm2', 56, 'm2', 55],\n",
       " [2, 5, 'm3', 67, 'm3', 87],\n",
       " [2, 5, 'm4', 46, 'm4', 41]]"
      ]
     },
     "execution_count": 149,
     "metadata": {},
     "output_type": "execute_result"
    }
   ],
   "source": [
    "dif_data = []\n",
    "for i in idx_rows:\n",
    "    for (idxCol, v1), (_, v2) in zip(df.loc[i[0]].iteritems(), df.loc[i[1]].iteritems()):\n",
    "        if v1 != v2:\n",
    "            dif_data.extend([[i[0],i[1],idxCol,v1,_,v2]])            \n",
    "dif_data   "
   ]
  },
  {
   "cell_type": "code",
   "execution_count": 126,
   "id": "ff92c0ba",
   "metadata": {},
   "outputs": [],
   "source": [
    "for i in idx_rows:\n",
    "    pass\n",
    "    #print(df.loc[i[0]],\"\\n\",df.loc[i[1]])"
   ]
  },
  {
   "cell_type": "code",
   "execution_count": 130,
   "id": "dc5352c5",
   "metadata": {},
   "outputs": [
    {
     "data": {
      "text/plain": [
       "{44: 87, 67: 45, 68: 56}"
      ]
     },
     "execution_count": 130,
     "metadata": {},
     "output_type": "execute_result"
    }
   ],
   "source": [
    "data"
   ]
  },
  {
   "cell_type": "code",
   "execution_count": 118,
   "id": "734f215b",
   "metadata": {},
   "outputs": [
    {
     "data": {
      "text/html": [
       "<div>\n",
       "<style scoped>\n",
       "    .dataframe tbody tr th:only-of-type {\n",
       "        vertical-align: middle;\n",
       "    }\n",
       "\n",
       "    .dataframe tbody tr th {\n",
       "        vertical-align: top;\n",
       "    }\n",
       "\n",
       "    .dataframe thead th {\n",
       "        text-align: right;\n",
       "    }\n",
       "</style>\n",
       "<table border=\"1\" class=\"dataframe\">\n",
       "  <thead>\n",
       "    <tr style=\"text-align: right;\">\n",
       "      <th></th>\n",
       "      <th>m0</th>\n",
       "      <th>m1</th>\n",
       "      <th>m2</th>\n",
       "      <th>m3</th>\n",
       "      <th>m4</th>\n",
       "    </tr>\n",
       "  </thead>\n",
       "  <tbody>\n",
       "    <tr>\n",
       "      <th>0</th>\n",
       "      <td>1</td>\n",
       "      <td>44</td>\n",
       "      <td>56</td>\n",
       "      <td>67</td>\n",
       "      <td>68</td>\n",
       "    </tr>\n",
       "    <tr>\n",
       "      <th>1</th>\n",
       "      <td>2</td>\n",
       "      <td>44</td>\n",
       "      <td>56</td>\n",
       "      <td>87</td>\n",
       "      <td>68</td>\n",
       "    </tr>\n",
       "    <tr>\n",
       "      <th>2</th>\n",
       "      <td>3</td>\n",
       "      <td>45</td>\n",
       "      <td>56</td>\n",
       "      <td>67</td>\n",
       "      <td>46</td>\n",
       "    </tr>\n",
       "    <tr>\n",
       "      <th>3</th>\n",
       "      <td>1</td>\n",
       "      <td>45</td>\n",
       "      <td>56</td>\n",
       "      <td>87</td>\n",
       "      <td>36</td>\n",
       "    </tr>\n",
       "    <tr>\n",
       "      <th>4</th>\n",
       "      <td>2</td>\n",
       "      <td>46</td>\n",
       "      <td>56</td>\n",
       "      <td>67</td>\n",
       "      <td>40</td>\n",
       "    </tr>\n",
       "    <tr>\n",
       "      <th>5</th>\n",
       "      <td>3</td>\n",
       "      <td>46</td>\n",
       "      <td>55</td>\n",
       "      <td>87</td>\n",
       "      <td>41</td>\n",
       "    </tr>\n",
       "  </tbody>\n",
       "</table>\n",
       "</div>"
      ],
      "text/plain": [
       "   m0  m1  m2  m3  m4\n",
       "0   1  44  56  67  68\n",
       "1   2  44  56  87  68\n",
       "2   3  45  56  67  46\n",
       "3   1  45  56  87  36\n",
       "4   2  46  56  67  40\n",
       "5   3  46  55  87  41"
      ]
     },
     "execution_count": 118,
     "metadata": {},
     "output_type": "execute_result"
    }
   ],
   "source": [
    "df"
   ]
  },
  {
   "cell_type": "code",
   "execution_count": 119,
   "id": "5b242dbf",
   "metadata": {},
   "outputs": [
    {
     "name": "stdout",
     "output_type": "stream",
     "text": [
      "   m0  m1  m2  m3  m4\n",
      "0   1  44  56  67  68\n",
      "3   1  45  56  87  36\n",
      "   m0  m1  m2  m3  m4\n",
      "1   2  44  56  87  68\n",
      "4   2  46  56  67  40\n",
      "   m0  m1  m2  m3  m4\n",
      "2   3  45  56  67  46\n",
      "5   3  46  55  87  41\n"
     ]
    }
   ],
   "source": [
    "for i in uniques:\n",
    "    print(df.loc[df['m0'] == i])\n"
   ]
  },
  {
   "cell_type": "code",
   "execution_count": 120,
   "id": "b3ae656c",
   "metadata": {},
   "outputs": [
    {
     "data": {
      "text/plain": [
       "{44: 46, 67: 87, 68: 40, 87: 67, 45: 46, 56: 55, 46: 41}"
      ]
     },
     "execution_count": 120,
     "metadata": {},
     "output_type": "execute_result"
    }
   ],
   "source": [
    "data"
   ]
  },
  {
   "cell_type": "code",
   "execution_count": 152,
   "id": "367ffdef",
   "metadata": {},
   "outputs": [],
   "source": [
    "df1 = pd.DataFrame(dif_data, columns=['Source_rowid', 'Desn_rowid','Sour_colname','Sou_Value','Target_cname','S_V'])"
   ]
  },
  {
   "cell_type": "code",
   "execution_count": 153,
   "id": "b7520506",
   "metadata": {},
   "outputs": [
    {
     "data": {
      "text/html": [
       "<div>\n",
       "<style scoped>\n",
       "    .dataframe tbody tr th:only-of-type {\n",
       "        vertical-align: middle;\n",
       "    }\n",
       "\n",
       "    .dataframe tbody tr th {\n",
       "        vertical-align: top;\n",
       "    }\n",
       "\n",
       "    .dataframe thead th {\n",
       "        text-align: right;\n",
       "    }\n",
       "</style>\n",
       "<table border=\"1\" class=\"dataframe\">\n",
       "  <thead>\n",
       "    <tr style=\"text-align: right;\">\n",
       "      <th></th>\n",
       "      <th>Source_rowid</th>\n",
       "      <th>Desn_rowid</th>\n",
       "      <th>Sour_colname</th>\n",
       "      <th>Sou_Value</th>\n",
       "      <th>Target_cname</th>\n",
       "      <th>S_V</th>\n",
       "    </tr>\n",
       "  </thead>\n",
       "  <tbody>\n",
       "    <tr>\n",
       "      <th>0</th>\n",
       "      <td>0</td>\n",
       "      <td>3</td>\n",
       "      <td>m1</td>\n",
       "      <td>44</td>\n",
       "      <td>m1</td>\n",
       "      <td>45</td>\n",
       "    </tr>\n",
       "    <tr>\n",
       "      <th>1</th>\n",
       "      <td>0</td>\n",
       "      <td>3</td>\n",
       "      <td>m3</td>\n",
       "      <td>67</td>\n",
       "      <td>m3</td>\n",
       "      <td>87</td>\n",
       "    </tr>\n",
       "    <tr>\n",
       "      <th>2</th>\n",
       "      <td>0</td>\n",
       "      <td>3</td>\n",
       "      <td>m4</td>\n",
       "      <td>68</td>\n",
       "      <td>m4</td>\n",
       "      <td>36</td>\n",
       "    </tr>\n",
       "    <tr>\n",
       "      <th>3</th>\n",
       "      <td>1</td>\n",
       "      <td>4</td>\n",
       "      <td>m1</td>\n",
       "      <td>44</td>\n",
       "      <td>m1</td>\n",
       "      <td>46</td>\n",
       "    </tr>\n",
       "    <tr>\n",
       "      <th>4</th>\n",
       "      <td>1</td>\n",
       "      <td>4</td>\n",
       "      <td>m3</td>\n",
       "      <td>87</td>\n",
       "      <td>m3</td>\n",
       "      <td>67</td>\n",
       "    </tr>\n",
       "    <tr>\n",
       "      <th>5</th>\n",
       "      <td>1</td>\n",
       "      <td>4</td>\n",
       "      <td>m4</td>\n",
       "      <td>68</td>\n",
       "      <td>m4</td>\n",
       "      <td>40</td>\n",
       "    </tr>\n",
       "    <tr>\n",
       "      <th>6</th>\n",
       "      <td>2</td>\n",
       "      <td>5</td>\n",
       "      <td>m1</td>\n",
       "      <td>45</td>\n",
       "      <td>m1</td>\n",
       "      <td>46</td>\n",
       "    </tr>\n",
       "    <tr>\n",
       "      <th>7</th>\n",
       "      <td>2</td>\n",
       "      <td>5</td>\n",
       "      <td>m2</td>\n",
       "      <td>56</td>\n",
       "      <td>m2</td>\n",
       "      <td>55</td>\n",
       "    </tr>\n",
       "    <tr>\n",
       "      <th>8</th>\n",
       "      <td>2</td>\n",
       "      <td>5</td>\n",
       "      <td>m3</td>\n",
       "      <td>67</td>\n",
       "      <td>m3</td>\n",
       "      <td>87</td>\n",
       "    </tr>\n",
       "    <tr>\n",
       "      <th>9</th>\n",
       "      <td>2</td>\n",
       "      <td>5</td>\n",
       "      <td>m4</td>\n",
       "      <td>46</td>\n",
       "      <td>m4</td>\n",
       "      <td>41</td>\n",
       "    </tr>\n",
       "  </tbody>\n",
       "</table>\n",
       "</div>"
      ],
      "text/plain": [
       "   Source_rowid  Desn_rowid Sour_colname  Sou_Value Target_cname  S_V\n",
       "0             0           3           m1         44           m1   45\n",
       "1             0           3           m3         67           m3   87\n",
       "2             0           3           m4         68           m4   36\n",
       "3             1           4           m1         44           m1   46\n",
       "4             1           4           m3         87           m3   67\n",
       "5             1           4           m4         68           m4   40\n",
       "6             2           5           m1         45           m1   46\n",
       "7             2           5           m2         56           m2   55\n",
       "8             2           5           m3         67           m3   87\n",
       "9             2           5           m4         46           m4   41"
      ]
     },
     "execution_count": 153,
     "metadata": {},
     "output_type": "execute_result"
    }
   ],
   "source": [
    "df1"
   ]
  },
  {
   "cell_type": "code",
   "execution_count": null,
   "id": "a6cb6e54",
   "metadata": {},
   "outputs": [],
   "source": []
  }
 ],
 "metadata": {
  "kernelspec": {
   "display_name": "Python 3 (ipykernel)",
   "language": "python",
   "name": "python3"
  },
  "language_info": {
   "codemirror_mode": {
    "name": "ipython",
    "version": 3
   },
   "file_extension": ".py",
   "mimetype": "text/x-python",
   "name": "python",
   "nbconvert_exporter": "python",
   "pygments_lexer": "ipython3",
   "version": "3.10.0"
  }
 },
 "nbformat": 4,
 "nbformat_minor": 5
}
