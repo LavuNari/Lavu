{
 "cells": [
  {
   "cell_type": "code",
   "execution_count": 82,
   "id": "e3d84223",
   "metadata": {},
   "outputs": [],
   "source": [
    "import warnings\n",
    "warnings.filterwarnings('ignore')\n",
    "\n",
    "import ipywidgets as widgets\n",
    "from IPython.display import display, clear_output"
   ]
  },
  {
   "cell_type": "code",
   "execution_count": 83,
   "id": "9b3c68b8",
   "metadata": {},
   "outputs": [],
   "source": [
    "#!jupyter nbextension enable --py widgetsnbextension --sys-prefix\n",
    "#!jupyter serverextension enable voila --sys-prefix"
   ]
  },
  {
   "cell_type": "code",
   "execution_count": 84,
   "id": "5b27d537",
   "metadata": {},
   "outputs": [],
   "source": [
    "# name\n",
    "\n",
    "name = widgets.Text(placeholder='Please, Enter your name here')"
   ]
  },
  {
   "cell_type": "code",
   "execution_count": 85,
   "id": "ec8fb3b0",
   "metadata": {},
   "outputs": [],
   "source": [
    "birthdate = widgets.DatePicker(description='Pick you DOB')"
   ]
  },
  {
   "cell_type": "code",
   "execution_count": null,
   "id": "3bf2b714",
   "metadata": {},
   "outputs": [],
   "source": []
  },
  {
   "cell_type": "code",
   "execution_count": 89,
   "id": "346a20ea",
   "metadata": {},
   "outputs": [],
   "source": [
    "# button send\n",
    "\n",
    "button_send = widgets.Button(\n",
    "                description='Find the age',\n",
    "                tooltip='Send',\n",
    "                style={'description_width': 'initial'}\n",
    "            )\n",
    "\n",
    "output = widgets.Output()\n",
    "\n",
    "def on_button_clicked(event):\n",
    "    with output:\n",
    "        clear_output()\n",
    "        print(\"Sent message: \")\n",
    "        print(f\"Dear Customer! {name.value}.\")\n",
    "        dateentered = birthdate.value\n",
    "        print(dateentered)\n",
    "        \n",
    "        # Python3 code to calculate age in years\n",
    "        from datetime import date\n",
    "        days_in_year = 365.2425\n",
    "        age = int((date.today() - dateentered).days / days_in_year)\n",
    "        print(f\"Your age as on {date.today()}, is {age} years\")\n",
    "        #print(f\"Also, if you don't mind, I'll bring along hungry ghosts for your delicious food!\")\n",
    "\n",
    "button_send.on_click(on_button_clicked)\n",
    "\n",
    "vbox_result = widgets.VBox([button_send, output])"
   ]
  },
  {
   "cell_type": "code",
   "execution_count": 90,
   "id": "15b77308",
   "metadata": {},
   "outputs": [],
   "source": [
    "# stacked right hand side\n",
    "\n",
    "text_0 = widgets.HTML(value=\"<h1>Dear Customer!</h1>\")\n",
    "text_1 = widgets.HTML(value=\"<h2>This is the site where you can find your age</h2>\")\n",
    "#text_2= widgets.HTML(value=\"<h2>I would love to come over on </h2>\")\n",
    "#text_3= widgets.HTML(value=\"<h2>for dinner, if that's okay for you!</h2>\")\n",
    "#text_4= widgets.HTML(value=\"<h2>Also, if you don't mind, I'll bring along </h2>\")\n",
    "#text_5= widgets.HTML(value=\"<h2>hungry ghosts for dinner, if that's okay for you!</h2>\")\n",
    "\n",
    "vbox_text = widgets.VBox([text_0, text_1,name,birthdate, vbox_result])"
   ]
  },
  {
   "cell_type": "code",
   "execution_count": 91,
   "id": "eade7792",
   "metadata": {},
   "outputs": [
    {
     "data": {
      "application/vnd.jupyter.widget-view+json": {
       "model_id": "f9b79e9b2d9e4df6a674eb92960387ad",
       "version_major": 2,
       "version_minor": 0
      },
      "text/plain": [
       "VBox(children=(HTML(value='<h1>Dear Customer!</h1>'), HTML(value='<h2>This is the site where you can find your…"
      ]
     },
     "metadata": {},
     "output_type": "display_data"
    }
   ],
   "source": [
    "vbox_text"
   ]
  },
  {
   "cell_type": "code",
   "execution_count": null,
   "id": "5bbca3a7",
   "metadata": {},
   "outputs": [],
   "source": []
  },
  {
   "cell_type": "code",
   "execution_count": null,
   "id": "450c1f29",
   "metadata": {},
   "outputs": [],
   "source": []
  }
 ],
 "metadata": {
  "kernelspec": {
   "display_name": "Python 3 (ipykernel)",
   "language": "python",
   "name": "python3"
  },
  "language_info": {
   "codemirror_mode": {
    "name": "ipython",
    "version": 3
   },
   "file_extension": ".py",
   "mimetype": "text/x-python",
   "name": "python",
   "nbconvert_exporter": "python",
   "pygments_lexer": "ipython3",
   "version": "3.10.0"
  }
 },
 "nbformat": 4,
 "nbformat_minor": 5
}
