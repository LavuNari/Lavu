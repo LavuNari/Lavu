{
 "cells": [
  {
   "cell_type": "code",
   "execution_count": 16,
   "id": "6957dbbc",
   "metadata": {},
   "outputs": [],
   "source": [
    "import pandas as pd"
   ]
  },
  {
   "cell_type": "code",
   "execution_count": 17,
   "id": "01260f75",
   "metadata": {},
   "outputs": [],
   "source": [
    "df = pd.read_csv(\"C:\\\\Users\\\\Umeshyam\\\\Desktop\\\\file.csv\", header=0)\n"
   ]
  },
  {
   "cell_type": "code",
   "execution_count": 18,
   "id": "3984b345",
   "metadata": {},
   "outputs": [
    {
     "data": {
      "text/html": [
       "<div>\n",
       "<style scoped>\n",
       "    .dataframe tbody tr th:only-of-type {\n",
       "        vertical-align: middle;\n",
       "    }\n",
       "\n",
       "    .dataframe tbody tr th {\n",
       "        vertical-align: top;\n",
       "    }\n",
       "\n",
       "    .dataframe thead th {\n",
       "        text-align: right;\n",
       "    }\n",
       "</style>\n",
       "<table border=\"1\" class=\"dataframe\">\n",
       "  <thead>\n",
       "    <tr style=\"text-align: right;\">\n",
       "      <th></th>\n",
       "      <th>eid</th>\n",
       "      <th>ename</th>\n",
       "      <th>edept</th>\n",
       "      <th>esalary</th>\n",
       "      <th>address</th>\n",
       "    </tr>\n",
       "  </thead>\n",
       "  <tbody>\n",
       "    <tr>\n",
       "      <th>0</th>\n",
       "      <td>1</td>\n",
       "      <td>raj</td>\n",
       "      <td>it</td>\n",
       "      <td>100</td>\n",
       "      <td>hyd</td>\n",
       "    </tr>\n",
       "    <tr>\n",
       "      <th>1</th>\n",
       "      <td>2</td>\n",
       "      <td>rani</td>\n",
       "      <td>hr</td>\n",
       "      <td>100</td>\n",
       "      <td>vjd</td>\n",
       "    </tr>\n",
       "    <tr>\n",
       "      <th>2</th>\n",
       "      <td>1</td>\n",
       "      <td>raja</td>\n",
       "      <td>it</td>\n",
       "      <td>150</td>\n",
       "      <td>hyd</td>\n",
       "    </tr>\n",
       "    <tr>\n",
       "      <th>3</th>\n",
       "      <td>2</td>\n",
       "      <td>ran</td>\n",
       "      <td>fin</td>\n",
       "      <td>200</td>\n",
       "      <td>vjawads</td>\n",
       "    </tr>\n",
       "    <tr>\n",
       "      <th>4</th>\n",
       "      <td>3</td>\n",
       "      <td>nari</td>\n",
       "      <td>fin</td>\n",
       "      <td>100</td>\n",
       "      <td>bdl</td>\n",
       "    </tr>\n",
       "    <tr>\n",
       "      <th>5</th>\n",
       "      <td>4</td>\n",
       "      <td>jani</td>\n",
       "      <td>fin</td>\n",
       "      <td>200</td>\n",
       "      <td>elr</td>\n",
       "    </tr>\n",
       "  </tbody>\n",
       "</table>\n",
       "</div>"
      ],
      "text/plain": [
       "   eid ename edept  esalary  address\n",
       "0    1   raj    it      100      hyd\n",
       "1    2  rani    hr      100      vjd\n",
       "2    1  raja    it      150      hyd\n",
       "3    2   ran   fin      200  vjawads\n",
       "4    3  nari   fin      100      bdl\n",
       "5    4  jani   fin      200      elr"
      ]
     },
     "execution_count": 18,
     "metadata": {},
     "output_type": "execute_result"
    }
   ],
   "source": [
    "df"
   ]
  },
  {
   "cell_type": "code",
   "execution_count": 19,
   "id": "aec55007",
   "metadata": {},
   "outputs": [
    {
     "name": "stdout",
     "output_type": "stream",
     "text": [
      "differen values []\n"
     ]
    }
   ],
   "source": [
    "data = []\n",
    "for (idxRow, s1), (_, s2) in zip(df.iterrows(), df.iterrows()):\n",
    "    for (idxCol, v1), (_, v2) in zip(s1.iteritems(), s2.iteritems()):\n",
    "        if v1 != v2:\n",
    "            data.extend([[idxRow,idxCol,v1,v2]])\n",
    "            \n",
    "\n",
    "print(\"differen values\", data)"
   ]
  },
  {
   "cell_type": "code",
   "execution_count": 20,
   "id": "1e73e060",
   "metadata": {},
   "outputs": [
    {
     "name": "stdout",
     "output_type": "stream",
     "text": [
      "the list of a single column from the dataframe\n",
      " [1, 2, 1, 2, 3, 4]\n"
     ]
    }
   ],
   "source": [
    "list_of_eid_column = df['eid'].tolist()\n",
    "\n",
    "print(\"the list of a single column from the dataframe\\n\",list_of_eid_column)"
   ]
  },
  {
   "cell_type": "code",
   "execution_count": 27,
   "id": "60f72038",
   "metadata": {},
   "outputs": [],
   "source": [
    "plural_in_list = {x for x in list_of_eid_column if list_of_eid_column.count(x) > 1 }"
   ]
  },
  {
   "cell_type": "code",
   "execution_count": 28,
   "id": "0f7f2286",
   "metadata": {},
   "outputs": [
    {
     "data": {
      "text/plain": [
       "{1, 2}"
      ]
     },
     "execution_count": 28,
     "metadata": {},
     "output_type": "execute_result"
    }
   ],
   "source": [
    "plural_in_list"
   ]
  },
  {
   "cell_type": "code",
   "execution_count": 33,
   "id": "183bcb22",
   "metadata": {},
   "outputs": [
    {
     "data": {
      "text/plain": [
       "[[0, 2], [1, 3]]"
      ]
     },
     "execution_count": 33,
     "metadata": {},
     "output_type": "execute_result"
    }
   ],
   "source": [
    "#To select rows whose column value equals a scalar, some_value, use ==:\n",
    "idx_rows=[]\n",
    "for i in plural_in_list:\n",
    "    idx_row = df.index[df['eid'] == i].tolist()\n",
    "    idx_rows.append(idx_row)\n",
    "    #print(df.loc[df['m0'] == i])\n",
    "\n",
    "idx_rows\n"
   ]
  },
  {
   "cell_type": "code",
   "execution_count": 34,
   "id": "ebb84ef5",
   "metadata": {},
   "outputs": [
    {
     "data": {
      "text/plain": [
       "[[0, 2, 'ename', 'raj', 'ename', 'raja'],\n",
       " [0, 2, 'esalary', 100, 'esalary', 150],\n",
       " [1, 3, 'ename', 'rani', 'ename', 'ran'],\n",
       " [1, 3, 'edept', 'hr', 'edept', 'fin'],\n",
       " [1, 3, 'esalary', 100, 'esalary', 200],\n",
       " [1, 3, 'address', 'vjd', 'address', 'vjawads']]"
      ]
     },
     "execution_count": 34,
     "metadata": {},
     "output_type": "execute_result"
    }
   ],
   "source": [
    "dif_data = []\n",
    "for i in idx_rows:\n",
    "    for (idxCol, v1), (_, v2) in zip(df.loc[i[0]].iteritems(), df.loc[i[1]].iteritems()):\n",
    "        if v1 != v2:\n",
    "            dif_data.extend([[i[0],i[1],idxCol,v1,_,v2]])            \n",
    "dif_data "
   ]
  },
  {
   "cell_type": "code",
   "execution_count": 35,
   "id": "e853c752",
   "metadata": {},
   "outputs": [],
   "source": [
    "df1 = pd.DataFrame(dif_data, columns=['Source_rowid', 'Desn_rowid','Sour_colname','Sou_Value','Target_cname','S_V'])\n"
   ]
  },
  {
   "cell_type": "code",
   "execution_count": 36,
   "id": "de3b54f4",
   "metadata": {},
   "outputs": [
    {
     "data": {
      "text/html": [
       "<div>\n",
       "<style scoped>\n",
       "    .dataframe tbody tr th:only-of-type {\n",
       "        vertical-align: middle;\n",
       "    }\n",
       "\n",
       "    .dataframe tbody tr th {\n",
       "        vertical-align: top;\n",
       "    }\n",
       "\n",
       "    .dataframe thead th {\n",
       "        text-align: right;\n",
       "    }\n",
       "</style>\n",
       "<table border=\"1\" class=\"dataframe\">\n",
       "  <thead>\n",
       "    <tr style=\"text-align: right;\">\n",
       "      <th></th>\n",
       "      <th>Source_rowid</th>\n",
       "      <th>Desn_rowid</th>\n",
       "      <th>Sour_colname</th>\n",
       "      <th>Sou_Value</th>\n",
       "      <th>Target_cname</th>\n",
       "      <th>S_V</th>\n",
       "    </tr>\n",
       "  </thead>\n",
       "  <tbody>\n",
       "    <tr>\n",
       "      <th>0</th>\n",
       "      <td>0</td>\n",
       "      <td>2</td>\n",
       "      <td>ename</td>\n",
       "      <td>raj</td>\n",
       "      <td>ename</td>\n",
       "      <td>raja</td>\n",
       "    </tr>\n",
       "    <tr>\n",
       "      <th>1</th>\n",
       "      <td>0</td>\n",
       "      <td>2</td>\n",
       "      <td>esalary</td>\n",
       "      <td>100</td>\n",
       "      <td>esalary</td>\n",
       "      <td>150</td>\n",
       "    </tr>\n",
       "    <tr>\n",
       "      <th>2</th>\n",
       "      <td>1</td>\n",
       "      <td>3</td>\n",
       "      <td>ename</td>\n",
       "      <td>rani</td>\n",
       "      <td>ename</td>\n",
       "      <td>ran</td>\n",
       "    </tr>\n",
       "    <tr>\n",
       "      <th>3</th>\n",
       "      <td>1</td>\n",
       "      <td>3</td>\n",
       "      <td>edept</td>\n",
       "      <td>hr</td>\n",
       "      <td>edept</td>\n",
       "      <td>fin</td>\n",
       "    </tr>\n",
       "    <tr>\n",
       "      <th>4</th>\n",
       "      <td>1</td>\n",
       "      <td>3</td>\n",
       "      <td>esalary</td>\n",
       "      <td>100</td>\n",
       "      <td>esalary</td>\n",
       "      <td>200</td>\n",
       "    </tr>\n",
       "    <tr>\n",
       "      <th>5</th>\n",
       "      <td>1</td>\n",
       "      <td>3</td>\n",
       "      <td>address</td>\n",
       "      <td>vjd</td>\n",
       "      <td>address</td>\n",
       "      <td>vjawads</td>\n",
       "    </tr>\n",
       "  </tbody>\n",
       "</table>\n",
       "</div>"
      ],
      "text/plain": [
       "   Source_rowid  Desn_rowid Sour_colname Sou_Value Target_cname      S_V\n",
       "0             0           2        ename       raj        ename     raja\n",
       "1             0           2      esalary       100      esalary      150\n",
       "2             1           3        ename      rani        ename      ran\n",
       "3             1           3        edept        hr        edept      fin\n",
       "4             1           3      esalary       100      esalary      200\n",
       "5             1           3      address       vjd      address  vjawads"
      ]
     },
     "execution_count": 36,
     "metadata": {},
     "output_type": "execute_result"
    }
   ],
   "source": [
    "df1"
   ]
  },
  {
   "cell_type": "code",
   "execution_count": null,
   "id": "b3945302",
   "metadata": {},
   "outputs": [],
   "source": []
  },
  {
   "cell_type": "code",
   "execution_count": null,
   "id": "5677f4b5",
   "metadata": {},
   "outputs": [],
   "source": []
  }
 ],
 "metadata": {
  "kernelspec": {
   "display_name": "Python 3 (ipykernel)",
   "language": "python",
   "name": "python3"
  },
  "language_info": {
   "codemirror_mode": {
    "name": "ipython",
    "version": 3
   },
   "file_extension": ".py",
   "mimetype": "text/x-python",
   "name": "python",
   "nbconvert_exporter": "python",
   "pygments_lexer": "ipython3",
   "version": "3.10.0"
  }
 },
 "nbformat": 4,
 "nbformat_minor": 5
}
